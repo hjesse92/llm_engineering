{
 "cells": [
  {
   "cell_type": "markdown",
   "id": "d15d8294-3328-4e07-ad16-8a03e9bbfdb9",
   "metadata": {},
   "source": [
    "# YOUR FIRST LAB\n",
    "### Please read this section. This is valuable to get you prepared, even if it's a long read -- it's important stuff.\n",
    "\n",
    "## Your first Frontier LLM Project\n",
    "\n",
    "Let's build a useful LLM solution - in a matter of minutes.\n",
    "\n",
    "By the end of this course, you will have built an autonomous Agentic AI solution with 7 agents that collaborate to solve a business problem. All in good time! We will start with something smaller...\n",
    "\n",
    "Our goal is to code a new kind of Web Browser. Give it a URL, and it will respond with a summary. The Reader's Digest of the internet!!\n",
    "\n",
    "Before starting, you should have completed the setup for [PC](../SETUP-PC.md) or [Mac](../SETUP-mac.md) and you hopefully launched this jupyter lab from within the project root directory, with your environment activated.\n",
    "\n",
    "## If you're new to Jupyter Lab\n",
    "\n",
    "Welcome to the wonderful world of Data Science experimentation! Once you've used Jupyter Lab, you'll wonder how you ever lived without it. Simply click in each \"cell\" with code in it, such as the cell immediately below this text, and hit Shift+Return to execute that cell. As you wish, you can add a cell with the + button in the toolbar, and print values of variables, or try out variations.  \n",
    "\n",
    "I've written a notebook called [Guide to Jupyter](Guide%20to%20Jupyter.ipynb) to help you get more familiar with Jupyter Labs, including adding Markdown comments, using `!` to run shell commands, and `tqdm` to show progress.\n",
    "\n",
    "## If you're new to the Command Line\n",
    "\n",
    "Please see these excellent guides: [Command line on PC](https://chatgpt.com/share/67b0acea-ba38-8012-9c34-7a2541052665) and [Command line on Mac](https://chatgpt.com/canvas/shared/67b0b10c93a081918210723867525d2b).  \n",
    "\n",
    "## If you'd prefer to work in IDEs\n",
    "\n",
    "If you're more comfortable in IDEs like VSCode or Pycharm, they both work great with these lab notebooks too.  \n",
    "If you'd prefer to work in VSCode, [here](https://chatgpt.com/share/676f2e19-c228-8012-9911-6ca42f8ed766) are instructions from an AI friend on how to configure it for the course.\n",
    "\n",
    "## If you'd like to brush up your Python\n",
    "\n",
    "I've added a notebook called [Intermediate Python](Intermediate%20Python.ipynb) to get you up to speed. But you should give it a miss if you already have a good idea what this code does:    \n",
    "`yield from {book.get(\"author\") for book in books if book.get(\"author\")}`\n",
    "\n",
    "## I am here to help\n",
    "\n",
    "If you have any problems at all, please do reach out.  \n",
    "I'm available through the platform, or at ed@edwarddonner.com, or at https://www.linkedin.com/in/eddonner/ if you'd like to connect (and I love connecting!)  \n",
    "And this is new to me, but I'm also trying out X/Twitter at [@edwarddonner](https://x.com/edwarddonner) - if you're on X, please show me how it's done 😂  \n",
    "\n",
    "## More troubleshooting\n",
    "\n",
    "Please see the [troubleshooting](troubleshooting.ipynb) notebook in this folder to diagnose and fix common problems. At the very end of it is a diagnostics script with some useful debug info.\n",
    "\n",
    "## If this is old hat!\n",
    "\n",
    "If you're already comfortable with today's material, please hang in there; you can move swiftly through the first few labs - we will get much more in depth as the weeks progress.\n",
    "\n",
    "<table style=\"margin: 0; text-align: left;\">\n",
    "    <tr>\n",
    "        <td style=\"width: 150px; height: 150px; vertical-align: middle;\">\n",
    "            <img src=\"../important.jpg\" width=\"150\" height=\"150\" style=\"display: block;\" />\n",
    "        </td>\n",
    "        <td>\n",
    "            <h2 style=\"color:#900;\">Please read - important note</h2>\n",
    "            <span style=\"color:#900;\">The way I collaborate with you may be different to other courses you've taken. I prefer not to type code while you watch. Rather, I execute Jupyter Labs, like this, and give you an intuition for what's going on. My suggestion is that you carefully execute this yourself, <b>after</b> watching the lecture. Add print statements to understand what's going on, and then come up with your own variations. If you have a Github account, use this to showcase your variations. Not only is this essential practice, but it demonstrates your skills to others, including perhaps future clients or employers...</span>\n",
    "        </td>\n",
    "    </tr>\n",
    "</table>\n",
    "<table style=\"margin: 0; text-align: left;\">\n",
    "    <tr>\n",
    "        <td style=\"width: 150px; height: 150px; vertical-align: middle;\">\n",
    "            <img src=\"../resources.jpg\" width=\"150\" height=\"150\" style=\"display: block;\" />\n",
    "        </td>\n",
    "        <td>\n",
    "            <h2 style=\"color:#f71;\">Treat these labs as a resource</h2>\n",
    "            <span style=\"color:#f71;\">I push updates to the code regularly. When people ask questions or have problems, I incorporate it in the code, adding more examples or improved commentary. As a result, you'll notice that the code below isn't identical to the videos. Everything from the videos is here; but in addition, I've added more steps and better explanations, and occasionally added new models like DeepSeek. Consider this like an interactive book that accompanies the lectures.\n",
    "            </span>\n",
    "        </td>\n",
    "    </tr>\n",
    "</table>\n",
    "<table style=\"margin: 0; text-align: left;\">\n",
    "    <tr>\n",
    "        <td style=\"width: 150px; height: 150px; vertical-align: middle;\">\n",
    "            <img src=\"../business.jpg\" width=\"150\" height=\"150\" style=\"display: block;\" />\n",
    "        </td>\n",
    "        <td>\n",
    "            <h2 style=\"color:#181;\">Business value of these exercises</h2>\n",
    "            <span style=\"color:#181;\">A final thought. While I've designed these notebooks to be educational, I've also tried to make them enjoyable. We'll do fun things like have LLMs tell jokes and argue with each other. But fundamentally, my goal is to teach skills you can apply in business. I'll explain business implications as we go, and it's worth keeping this in mind: as you build experience with models and techniques, think of ways you could put this into action at work today. Please do contact me if you'd like to discuss more or if you have ideas to bounce off me.</span>\n",
    "        </td>\n",
    "    </tr>\n",
    "</table>"
   ]
  },
  {
   "cell_type": "code",
   "execution_count": 43,
   "id": "4e2a9393-7767-488e-a8bf-27c12dca35bd",
   "metadata": {},
   "outputs": [],
   "source": [
    "# imports\n",
    "\n",
    "import os\n",
    "import requests\n",
    "from dotenv import load_dotenv\n",
    "from bs4 import BeautifulSoup\n",
    "from IPython.display import Markdown, display\n",
    "from openai import OpenAI\n",
    "from dataclasses import dataclass\n",
    "\n",
    "# If you get an error running this cell, then please head over to the troubleshooting notebook!"
   ]
  },
  {
   "cell_type": "markdown",
   "id": "6900b2a8-6384-4316-8aaa-5e519fca4254",
   "metadata": {},
   "source": [
    "# Connecting to OpenAI\n",
    "\n",
    "The next cell is where we load in the environment variables in your `.env` file and connect to OpenAI.\n",
    "\n",
    "## Troubleshooting if you have problems:\n",
    "\n",
    "Head over to the [troubleshooting](troubleshooting.ipynb) notebook in this folder for step by step code to identify the root cause and fix it!\n",
    "\n",
    "If you make a change, try restarting the \"Kernel\" (the python process sitting behind this notebook) by Kernel menu >> Restart Kernel and Clear Outputs of All Cells. Then try this notebook again, starting at the top.\n",
    "\n",
    "Or, contact me! Message me or email ed@edwarddonner.com and we will get this to work.\n",
    "\n",
    "Any concerns about API costs? See my notes in the README - costs should be minimal, and you can control it at every point. You can also use Ollama as a free alternative, which we discuss during Day 2."
   ]
  },
  {
   "cell_type": "code",
   "execution_count": 2,
   "id": "7b87cadb-d513-4303-baee-a37b6f938e4d",
   "metadata": {},
   "outputs": [
    {
     "name": "stdout",
     "output_type": "stream",
     "text": [
      "API key found and looks good so far!\n"
     ]
    }
   ],
   "source": [
    "# Load environment variables in a file called .env\n",
    "\n",
    "load_dotenv(override=True)\n",
    "api_key = os.getenv('OPENAI_API_KEY')\n",
    "\n",
    "# Check the key\n",
    "\n",
    "if not api_key:\n",
    "    print(\"No API key was found - please head over to the troubleshooting notebook in this folder to identify & fix!\")\n",
    "elif not api_key.startswith(\"sk-proj-\"):\n",
    "    print(\"An API key was found, but it doesn't start sk-proj-; please check you're using the right key - see troubleshooting notebook\")\n",
    "elif api_key.strip() != api_key:\n",
    "    print(\"An API key was found, but it looks like it might have space or tab characters at the start or end - please remove them - see troubleshooting notebook\")\n",
    "else:\n",
    "    print(\"API key found and looks good so far!\")\n"
   ]
  },
  {
   "cell_type": "code",
   "execution_count": 3,
   "id": "019974d9-f3ad-4a8a-b5f9-0a3719aea2d3",
   "metadata": {},
   "outputs": [],
   "source": [
    "openai = OpenAI()\n",
    "\n",
    "# If this doesn't work, try Kernel menu >> Restart Kernel and Clear Outputs Of All Cells, then run the cells from the top of this notebook down.\n",
    "# If it STILL doesn't work (horrors!) then please see the Troubleshooting notebook in this folder for full instructions"
   ]
  },
  {
   "cell_type": "markdown",
   "id": "442fc84b-0815-4f40-99ab-d9a5da6bda91",
   "metadata": {},
   "source": [
    "# Let's make a quick call to a Frontier model to get started, as a preview!"
   ]
  },
  {
   "cell_type": "code",
   "execution_count": 4,
   "id": "a58394bf-1e45-46af-9bfd-01e24da6f49a",
   "metadata": {},
   "outputs": [
    {
     "name": "stdout",
     "output_type": "stream",
     "text": [
      "Hello! Welcome! I'm glad to have you here. How can I assist you today?\n"
     ]
    }
   ],
   "source": [
    "# To give you a preview -- calling OpenAI with these messages is this easy. Any problems, head over to the Troubleshooting notebook.\n",
    "\n",
    "message = \"Hello, GPT! This is my first ever message to you! Hi!\"\n",
    "response = openai.chat.completions.create(model=\"gpt-4o-mini\", messages=[{\"role\":\"user\", \"content\":message}])\n",
    "print(response.choices[0].message.content)"
   ]
  },
  {
   "cell_type": "markdown",
   "id": "2aa190e5-cb31-456a-96cc-db109919cd78",
   "metadata": {},
   "source": [
    "## OK onwards with our first project"
   ]
  },
  {
   "cell_type": "code",
   "execution_count": 44,
   "id": "c5e793b2-6775-426a-a139-4848291d0463",
   "metadata": {},
   "outputs": [],
   "source": [
    "# A class to represent a Webpage\n",
    "# If you're not familiar with Classes, check out the \"Intermediate Python\" notebook\n",
    "\n",
    "# Some websites need you to use proper headers when fetching them:\n",
    "headers = {\n",
    " \"User-Agent\": \"Mozilla/5.0 (Windows NT 10.0; Win64; x64) AppleWebKit/537.36 (KHTML, like Gecko) Chrome/117.0.0.0 Safari/537.36\"\n",
    "}\n",
    "\n",
    "@dataclass\n",
    "class Website:\n",
    "\n",
    "    def __init__(self, url):\n",
    "        \"\"\"\n",
    "        Create this Website object from the given url using the BeautifulSoup library\n",
    "        \"\"\"\n",
    "        self.url = url\n",
    "        response = requests.get(url, headers=headers)\n",
    "        soup = BeautifulSoup(response.content, 'html.parser')\n",
    "        self.title = soup.title.string if soup.title else \"No title found\"\n",
    "        for irrelevant in soup.body([\"script\", \"style\", \"img\", \"input\"]):\n",
    "            irrelevant.decompose()\n",
    "        self.text = soup.body.get_text(separator=\"\\n\", strip=True)"
   ]
  },
  {
   "cell_type": "code",
   "execution_count": 6,
   "id": "2ef960cf-6dc2-4cda-afb3-b38be12f4c97",
   "metadata": {},
   "outputs": [
    {
     "name": "stdout",
     "output_type": "stream",
     "text": [
      "Home - Edward Donner\n",
      "Home\n",
      "Connect Four\n",
      "Outsmart\n",
      "An arena that pits LLMs against each other in a battle of diplomacy and deviousness\n",
      "About\n",
      "Posts\n",
      "Well, hi there.\n",
      "I’m Ed. I like writing code and experimenting with LLMs, and hopefully you’re here because you do too. I also enjoy DJing (but I’m badly out of practice), amateur electronic music production (\n",
      "very\n",
      "amateur) and losing myself in\n",
      "Hacker News\n",
      ", nodding my head sagely to things I only half understand.\n",
      "I’m the co-founder and CTO of\n",
      "Nebula.io\n",
      ". We’re applying AI to a field where it can make a massive, positive impact: helping people discover their potential and pursue their reason for being. Recruiters use our product today to source, understand, engage and manage talent. I’m previously the founder and CEO of AI startup untapt,\n",
      "acquired in 2021\n",
      ".\n",
      "We work with groundbreaking, proprietary LLMs verticalized for talent, we’ve\n",
      "patented\n",
      "our matching model, and our award-winning platform has happy customers and tons of press coverage.\n",
      "Connect\n",
      "with me for more!\n",
      "January 23, 2025\n",
      "LLM Workshop – Hands-on with Agents – resources\n",
      "December 21, 2024\n",
      "Welcome, SuperDataScientists!\n",
      "November 13, 2024\n",
      "Mastering AI and LLM Engineering – Resources\n",
      "October 16, 2024\n",
      "From Software Engineer to AI Data Scientist – resources\n",
      "Navigation\n",
      "Home\n",
      "Connect Four\n",
      "Outsmart\n",
      "An arena that pits LLMs against each other in a battle of diplomacy and deviousness\n",
      "About\n",
      "Posts\n",
      "Get in touch\n",
      "ed [at] edwarddonner [dot] com\n",
      "www.edwarddonner.com\n",
      "Follow me\n",
      "LinkedIn\n",
      "Twitter\n",
      "Facebook\n",
      "Subscribe to newsletter\n",
      "Type your email…\n",
      "Subscribe\n"
     ]
    }
   ],
   "source": [
    "# Let's try one out. Change the website and add print statements to follow along.\n",
    "\n",
    "ed = Website(\"https://edwarddonner.com\")\n",
    "print(ed.title)\n",
    "print(ed.text)"
   ]
  },
  {
   "cell_type": "markdown",
   "id": "6a478a0c-2c53-48ff-869c-4d08199931e1",
   "metadata": {},
   "source": [
    "## Types of prompts\n",
    "\n",
    "You may know this already - but if not, you will get very familiar with it!\n",
    "\n",
    "Models like GPT4o have been trained to receive instructions in a particular way.\n",
    "\n",
    "They expect to receive:\n",
    "\n",
    "**A system prompt** that tells them what task they are performing and what tone they should use\n",
    "\n",
    "**A user prompt** -- the conversation starter that they should reply to"
   ]
  },
  {
   "cell_type": "code",
   "execution_count": 7,
   "id": "abdb8417-c5dc-44bc-9bee-2e059d162699",
   "metadata": {},
   "outputs": [],
   "source": [
    "# Define our system prompt - you can experiment with this later, changing the last sentence to 'Respond in markdown in Spanish.\"\n",
    "\n",
    "system_prompt = \"You are an assistant that analyzes the contents of a website \\\n",
    "and provides a short summary, ignoring text that might be navigation related. \\\n",
    "Respond in markdown.\""
   ]
  },
  {
   "cell_type": "code",
   "execution_count": 8,
   "id": "f0275b1b-7cfe-4f9d-abfa-7650d378da0c",
   "metadata": {},
   "outputs": [],
   "source": [
    "# A function that writes a User Prompt that asks for summaries of websites:\n",
    "\n",
    "def user_prompt_for(website):\n",
    "    user_prompt = f\"You are looking at a website titled {website.title}\"\n",
    "    user_prompt += \"\\nThe contents of this website is as follows; \\\n",
    "please provide a short summary of this website in markdown. \\\n",
    "If it includes news or announcements, then summarize these too.\\n\\n\"\n",
    "    user_prompt += website.text\n",
    "    return user_prompt"
   ]
  },
  {
   "cell_type": "code",
   "execution_count": 10,
   "id": "26448ec4-5c00-4204-baec-7df91d11ff2e",
   "metadata": {
    "scrolled": true
   },
   "outputs": [
    {
     "name": "stdout",
     "output_type": "stream",
     "text": [
      "You are an assistant that analyzes the contents of a website and provides a short summary, ignoring text that might be navigation related. Respond in markdown.\n",
      "You are looking at a website titled Home - Edward Donner\n",
      "The contents of this website is as follows; please provide a short summary of this website in markdown. If it includes news or announcements, then summarize these too.\n",
      "\n",
      "Home\n",
      "Connect Four\n",
      "Outsmart\n",
      "An arena that pits LLMs against each other in a battle of diplomacy and deviousness\n",
      "About\n",
      "Posts\n",
      "Well, hi there.\n",
      "I’m Ed. I like writing code and experimenting with LLMs, and hopefully you’re here because you do too. I also enjoy DJing (but I’m badly out of practice), amateur electronic music production (\n",
      "very\n",
      "amateur) and losing myself in\n",
      "Hacker News\n",
      ", nodding my head sagely to things I only half understand.\n",
      "I’m the co-founder and CTO of\n",
      "Nebula.io\n",
      ". We’re applying AI to a field where it can make a massive, positive impact: helping people discover their potential and pursue their reason for being. Recruiters use our product today to source, understand, engage and manage talent. I’m previously the founder and CEO of AI startup untapt,\n",
      "acquired in 2021\n",
      ".\n",
      "We work with groundbreaking, proprietary LLMs verticalized for talent, we’ve\n",
      "patented\n",
      "our matching model, and our award-winning platform has happy customers and tons of press coverage.\n",
      "Connect\n",
      "with me for more!\n",
      "January 23, 2025\n",
      "LLM Workshop – Hands-on with Agents – resources\n",
      "December 21, 2024\n",
      "Welcome, SuperDataScientists!\n",
      "November 13, 2024\n",
      "Mastering AI and LLM Engineering – Resources\n",
      "October 16, 2024\n",
      "From Software Engineer to AI Data Scientist – resources\n",
      "Navigation\n",
      "Home\n",
      "Connect Four\n",
      "Outsmart\n",
      "An arena that pits LLMs against each other in a battle of diplomacy and deviousness\n",
      "About\n",
      "Posts\n",
      "Get in touch\n",
      "ed [at] edwarddonner [dot] com\n",
      "www.edwarddonner.com\n",
      "Follow me\n",
      "LinkedIn\n",
      "Twitter\n",
      "Facebook\n",
      "Subscribe to newsletter\n",
      "Type your email…\n",
      "Subscribe\n"
     ]
    }
   ],
   "source": [
    "print(system_prompt)\n",
    "print(user_prompt_for(ed))"
   ]
  },
  {
   "cell_type": "markdown",
   "id": "ea211b5f-28e1-4a86-8e52-c0b7677cadcc",
   "metadata": {},
   "source": [
    "## Messages\n",
    "\n",
    "The API from OpenAI expects to receive messages in a particular structure.\n",
    "Many of the other APIs share this structure:\n",
    "\n",
    "```\n",
    "[\n",
    "    {\"role\": \"system\", \"content\": \"system message goes here\"},\n",
    "    {\"role\": \"user\", \"content\": \"user message goes here\"}\n",
    "]\n",
    "\n",
    "To give you a preview, the next 2 cells make a rather simple call - we won't stretch the mighty GPT (yet!)"
   ]
  },
  {
   "cell_type": "code",
   "execution_count": 11,
   "id": "f25dcd35-0cd0-4235-9f64-ac37ed9eaaa5",
   "metadata": {},
   "outputs": [],
   "source": [
    "messages = [\n",
    "    {\"role\": \"system\", \"content\": \"You are a snarky assistant\"},\n",
    "    {\"role\": \"user\", \"content\": \"What is 2 + 2?\"}\n",
    "]"
   ]
  },
  {
   "cell_type": "code",
   "execution_count": 13,
   "id": "21ed95c5-7001-47de-a36d-1d6673b403ce",
   "metadata": {},
   "outputs": [
    {
     "name": "stdout",
     "output_type": "stream",
     "text": [
      "Oh, that's a tough one! Let me pull out my calculator... just kidding! It's 4. I hope that wasn't too complicated.\n"
     ]
    }
   ],
   "source": [
    "# To give you a preview -- calling OpenAI with system and user messages:\n",
    "\n",
    "response = openai.chat.completions.create(model=\"gpt-4o-mini\", messages=messages)\n",
    "print(response.choices[0].message.content)"
   ]
  },
  {
   "cell_type": "markdown",
   "id": "d06e8d78-ce4c-4b05-aa8e-17050c82bb47",
   "metadata": {},
   "source": [
    "## And now let's build useful messages for GPT-4o-mini, using a function"
   ]
  },
  {
   "cell_type": "code",
   "execution_count": 14,
   "id": "0134dfa4-8299-48b5-b444-f2a8c3403c88",
   "metadata": {},
   "outputs": [],
   "source": [
    "# See how this function creates exactly the format above\n",
    "\n",
    "def messages_for(website):\n",
    "    return [\n",
    "        {\"role\": \"system\", \"content\": system_prompt},\n",
    "        {\"role\": \"user\", \"content\": user_prompt_for(website)}\n",
    "    ]"
   ]
  },
  {
   "cell_type": "code",
   "execution_count": 15,
   "id": "36478464-39ee-485c-9f3f-6a4e458dbc9c",
   "metadata": {},
   "outputs": [
    {
     "data": {
      "text/plain": [
       "[{'role': 'system',\n",
       "  'content': 'You are an assistant that analyzes the contents of a website and provides a short summary, ignoring text that might be navigation related. Respond in markdown.'},\n",
       " {'role': 'user',\n",
       "  'content': 'You are looking at a website titled Home - Edward Donner\\nThe contents of this website is as follows; please provide a short summary of this website in markdown. If it includes news or announcements, then summarize these too.\\n\\nHome\\nConnect Four\\nOutsmart\\nAn arena that pits LLMs against each other in a battle of diplomacy and deviousness\\nAbout\\nPosts\\nWell, hi there.\\nI’m Ed. I like writing code and experimenting with LLMs, and hopefully you’re here because you do too. I also enjoy DJing (but I’m badly out of practice), amateur electronic music production (\\nvery\\namateur) and losing myself in\\nHacker News\\n, nodding my head sagely to things I only half understand.\\nI’m the co-founder and CTO of\\nNebula.io\\n. We’re applying AI to a field where it can make a massive, positive impact: helping people discover their potential and pursue their reason for being. Recruiters use our product today to source, understand, engage and manage talent. I’m previously the founder and CEO of AI startup untapt,\\nacquired in 2021\\n.\\nWe work with groundbreaking, proprietary LLMs verticalized for talent, we’ve\\npatented\\nour matching model, and our award-winning platform has happy customers and tons of press coverage.\\nConnect\\nwith me for more!\\nJanuary 23, 2025\\nLLM Workshop – Hands-on with Agents – resources\\nDecember 21, 2024\\nWelcome, SuperDataScientists!\\nNovember 13, 2024\\nMastering AI and LLM Engineering – Resources\\nOctober 16, 2024\\nFrom Software Engineer to AI Data Scientist – resources\\nNavigation\\nHome\\nConnect Four\\nOutsmart\\nAn arena that pits LLMs against each other in a battle of diplomacy and deviousness\\nAbout\\nPosts\\nGet in touch\\ned [at] edwarddonner [dot] com\\nwww.edwarddonner.com\\nFollow me\\nLinkedIn\\nTwitter\\nFacebook\\nSubscribe to newsletter\\nType your email…\\nSubscribe'}]"
      ]
     },
     "execution_count": 15,
     "metadata": {},
     "output_type": "execute_result"
    }
   ],
   "source": [
    "# Try this out, and then try for a few more websites\n",
    "\n",
    "messages_for(ed)"
   ]
  },
  {
   "cell_type": "code",
   "execution_count": 17,
   "id": "ed1948af-6f4b-40af-984c-07738589fa9b",
   "metadata": {},
   "outputs": [],
   "source": [
    "response = openai.chat.completions.create(model='gpt-4o-mini', messages=messages_for(ed))"
   ]
  },
  {
   "cell_type": "code",
   "execution_count": 28,
   "id": "e471c097-83f3-4b4b-8af2-1c5a563b33a6",
   "metadata": {},
   "outputs": [
    {
     "name": "stdout",
     "output_type": "stream",
     "text": [
      "# Summary of Edward Donner's Website\n",
      "\n",
      "Edward Donner's website serves as a personal and professional platform where he shares his interests, expertise in programming, and innovations in the field of AI and LLMs (Large Language Models). He is the co-founder and CTO of Nebula.io, which focuses on applying AI to talent discovery and management. Edward has a background as the founder and CEO of the AI startup untapt, acquired in 2021.\n",
      "\n",
      "## Key Sections\n",
      "- **Connect Four**: Describes an arena for competition between LLMs, highlighting strategic interactions.\n",
      "- **About**: Introduces Edward, discussing his passion for coding, DJing, and involvement in the AI community.\n",
      "- **Professional Background**: His experience includes working with patented LLM matching models and developing an award-winning platform utilized by recruiters.\n",
      "\n",
      "## News and Announcements\n",
      "- **January 23, 2025**: Resources available for an \"LLM Workshop – Hands-on with Agents.\"\n",
      "- **December 21, 2024**: Announcement welcoming a community called \"SuperDataScientists.\"\n",
      "- **November 13, 2024**: Resources shared for \"Mastering AI and LLM Engineering.\"\n",
      "- **October 16, 2024**: Resources for transitioning \"From Software Engineer to AI Data Scientist.\"\n"
     ]
    }
   ],
   "source": [
    "print(response.choices[0].message.content)"
   ]
  },
  {
   "cell_type": "markdown",
   "id": "16f49d46-bf55-4c3e-928f-68fc0bf715b0",
   "metadata": {},
   "source": [
    "## Time to bring it together - the API for OpenAI is very simple!"
   ]
  },
  {
   "cell_type": "code",
   "execution_count": 29,
   "id": "905b9919-aba7-45b5-ae65-81b3d1d78e34",
   "metadata": {},
   "outputs": [],
   "source": [
    "# And now: call the OpenAI API. You will get very familiar with this!\n",
    "\n",
    "def summarize(url):\n",
    "    website = Website(url)\n",
    "    response = openai.chat.completions.create(\n",
    "        model = \"gpt-4o-mini\",\n",
    "        messages = messages_for(website)\n",
    "    )\n",
    "    return response.choices[0].message.content"
   ]
  },
  {
   "cell_type": "code",
   "execution_count": 30,
   "id": "05e38d41-dfa4-4b20-9c96-c46ea75d9fb5",
   "metadata": {},
   "outputs": [
    {
     "data": {
      "text/plain": [
       "\"# Summary of Edward Donner's Website\\n\\nEdward Donner's website serves as a personal platform where he shares his interests, expertise in coding, and experimentation with large language models (LLMs). He is introduced as a passionate coder, DJ, and electronic music producer, as well as the co-founder and CTO of Nebula.io. His work involves using AI to enhance talent discovery and engagement.\\n\\n## News and Announcements\\n- **January 23, 2025**: Released resources for an LLM Workshop focusing on hands-on experience with agents.\\n- **December 21, 2024**: Announced a welcome message to SuperDataScientists.\\n- **November 13, 2024**: Shared resources for mastering AI and LLM engineering.\\n- **October 16, 2024**: Provided resources on transitioning from a software engineer to an AI data scientist.\\n\\nOverall, the website is a blend of professional insights into AI and LLMs, personal interests, and announcements related to workshops and educational resources.\""
      ]
     },
     "execution_count": 30,
     "metadata": {},
     "output_type": "execute_result"
    }
   ],
   "source": [
    "summarize(\"https://edwarddonner.com\")"
   ]
  },
  {
   "cell_type": "code",
   "execution_count": 31,
   "id": "3d926d59-450e-4609-92ba-2d6f244f1342",
   "metadata": {},
   "outputs": [],
   "source": [
    "# A function to display this nicely in the Jupyter output, using markdown\n",
    "\n",
    "def display_summary(url):\n",
    "    summary = summarize(url)\n",
    "    display(Markdown(summary))"
   ]
  },
  {
   "cell_type": "code",
   "execution_count": 32,
   "id": "3018853a-445f-41ff-9560-d925d1774b2f",
   "metadata": {},
   "outputs": [
    {
     "data": {
      "text/markdown": [
       "# Summary of Edward Donner's Website\n",
       "\n",
       "Edward Donner's website is a personal and professional platform showcasing his interests in coding, LLMs (Large Language Models), and electronic music. As the co-founder and CTO of Nebula.io, he focuses on applying AI to enhance talent discovery and engagement, leveraging proprietary LLMs and a patented matching model.\n",
       "\n",
       "## Key Features:\n",
       "- **Personal Introduction**: Ed shares his background in coding and LLM experimentation, along with hobbies such as DJing and electronic music production.\n",
       "- **Professional Experience**: Highlights his role at Nebula.io and previous startup, untapt, which was acquired in 2021.\n",
       "- **Resources**: Offers various resources related to AI and LLM engineering, including workshops and guides.\n",
       "\n",
       "## News and Announcements:\n",
       "- **January 23, 2025**: Announcement of \"LLM Workshop – Hands-on with Agents\" resources.\n",
       "- **December 21, 2024**: Welcome message for \"SuperDataScientists\".\n",
       "- **November 13, 2024**: Introduction of resources for \"Mastering AI and LLM Engineering\".\n",
       "- **October 16, 2024**: Resources for transitioning from Software Engineer to AI Data Scientist.\n",
       "\n",
       "Overall, the website serves as a hub for Ed's professional endeavors and a resource for those interested in AI and LLMs."
      ],
      "text/plain": [
       "<IPython.core.display.Markdown object>"
      ]
     },
     "metadata": {},
     "output_type": "display_data"
    }
   ],
   "source": [
    "display_summary(\"https://edwarddonner.com\")"
   ]
  },
  {
   "cell_type": "markdown",
   "id": "b3bcf6f4-adce-45e9-97ad-d9a5d7a3a624",
   "metadata": {},
   "source": [
    "# Let's try more websites\n",
    "\n",
    "Note that this will only work on websites that can be scraped using this simplistic approach.\n",
    "\n",
    "Websites that are rendered with Javascript, like React apps, won't show up. See the community-contributions folder for a Selenium implementation that gets around this. You'll need to read up on installing Selenium (ask ChatGPT!)\n",
    "\n",
    "Also Websites protected with CloudFront (and similar) may give 403 errors - many thanks Andy J for pointing this out.\n",
    "\n",
    "But many websites will work just fine!"
   ]
  },
  {
   "cell_type": "code",
   "execution_count": 33,
   "id": "45d83403-a24c-44b5-84ac-961449b4008f",
   "metadata": {},
   "outputs": [
    {
     "data": {
      "text/markdown": [
       "# CNN Website Summary\n",
       "\n",
       "**Overview:**\n",
       "The CNN website offers up-to-date news coverage across various categories including US and world news, politics, business, health, entertainment, sports, science, and lifestyle. It serves as a platform for breaking news, analysis, and insights into ongoing global events.\n",
       "\n",
       "**Recent Headlines:**\n",
       "1. **Trump and Politics:**\n",
       "   - Trump announced new auto tariffs, escalating trade tensions.\n",
       "   - A federal appeals court upheld a temporary block on Trump's use of the Alien Enemies Act for deportations.\n",
       "   - The Supreme Court recently handed a rare victory to gun control advocates in a closely watched case.\n",
       "\n",
       "2. **International Events:**\n",
       "   - Reports indicate increasing protests in Gaza against Hamas.\n",
       "   - A Kenyan officer was killed in Haiti amid rising gang violence.\n",
       "\n",
       "3. **Health and Safety:**\n",
       "   - Measles cases in Kansas are rising, potentially linked to a multistate outbreak.\n",
       "   - A doctor has been arrested for attempting to harm his wife while hiking in Hawaii.\n",
       "\n",
       "4. **Severe Weather:**\n",
       "   - South Texas is experiencing severe weather conditions, threatening heavy rainfall and storms.\n",
       "\n",
       "5. **Entertainment:**\n",
       "   - New trailers have been released for upcoming films and updates on various high-profile celebrity stories, including Alec Baldwin's film \"Rust\" and Gwyneth Paltrow's social media presence.\n",
       "\n",
       "**Features:**\n",
       "- CNN provides various multimedia content including articles, videos, live updates, and podcasts.\n",
       "- The site emphasizes viewer engagement, inviting feedback on ad relevance and technical issues encountered while browsing.\n",
       "\n",
       "Overall, CNN serves as a comprehensive news hub with an array of resources for individuals seeking timely and relevant news updates."
      ],
      "text/plain": [
       "<IPython.core.display.Markdown object>"
      ]
     },
     "metadata": {},
     "output_type": "display_data"
    }
   ],
   "source": [
    "display_summary(\"https://cnn.com\")"
   ]
  },
  {
   "cell_type": "code",
   "execution_count": 34,
   "id": "75e9fd40-b354-4341-991e-863ef2e59db7",
   "metadata": {
    "scrolled": true
   },
   "outputs": [
    {
     "data": {
      "text/markdown": [
       "# Summary of Anthropic Website\n",
       "\n",
       "Anthropic is an AI safety and research company focused on developing reliable and beneficial AI systems. They recently announced the launch of **Claude 3.7 Sonnet**, their most advanced model to date, which introduces hybrid reasoning capabilities. Alongside this, they have introduced **Claude Code**, an agentic tool designed specifically for coding tasks. \n",
       "\n",
       "## News and Announcements:\n",
       "- **Launch of Claude 3.7 Sonnet**: The latest AI model, hailed as the most intelligent to date.\n",
       "- **Introduction of Claude Code**: A new tool for coding applications.\n",
       "- **Research Updates**: Ongoing work in AI safety, including discussions on \"Constitutional AI\" and the company's core views on AI safety.\n",
       "\n",
       "Anthropic operates with a team that has diverse expertise in machine learning, physics, policy, and product development, promoting a philosophy of safety in AI development."
      ],
      "text/plain": [
       "<IPython.core.display.Markdown object>"
      ]
     },
     "metadata": {},
     "output_type": "display_data"
    }
   ],
   "source": [
    "display_summary(\"https://anthropic.com\")"
   ]
  },
  {
   "cell_type": "code",
   "execution_count": 35,
   "id": "271ee5e9-cb3b-4437-9e36-189819adde88",
   "metadata": {},
   "outputs": [
    {
     "data": {
      "text/markdown": [
       "# JesseTech - Data Scientist\n",
       "\n",
       "**About Jesse**  \n",
       "Jesse He is a Data Scientist currently working at Meta (Facebook), focusing on enhancing single-player experiences into engaging multi-player environments within the Facebook app and the Metaverse through Remote Presence technology.\n",
       "\n",
       "**Expertise**  \n",
       "Jesse is skilled in:\n",
       "- **Technical Skills**: Proficient in designing and implementing neural network algorithms, utilizing regression, decision trees, and probabilistic modeling techniques. Experienced with Python, SQL databases (Presto, MySQL, Oracle, Hive), and data visualization tools like Tableau, Matplotlib, and Alteryx.\n",
       "- **Leadership Capabilities**: Effective at communicating complex technical concepts to non-technical stakeholders and transforming their objectives into actionable technical goals. Proactive in managing projects independently and building connections across various teams.\n",
       "\n",
       "**Understanding Data Science**  \n",
       "Data scientists like Jesse utilize a combination of analytical skills and a passion for social science to tackle complex challenges, uncover trends, and manage data effectively. Their toolkit includes statistical inference, data visualization, machine learning, experimentation, data engineering, and deep learning.\n",
       "\n",
       "**Contact**  \n",
       "Jesse welcomes connections and can be reached via email at hello@jessetech.ai or phone at (408) 475-2093 in Silicon Valley, California.\n",
       "\n",
       "---\n",
       "\n",
       "This summary provides an overview of Jesse's professional background, expertise in data science, and contact information, while omitting navigation-related elements."
      ],
      "text/plain": [
       "<IPython.core.display.Markdown object>"
      ]
     },
     "metadata": {},
     "output_type": "display_data"
    }
   ],
   "source": [
    "display_summary(\"https://jessetech.ai\")"
   ]
  },
  {
   "cell_type": "markdown",
   "id": "c951be1a-7f1b-448f-af1f-845978e47e2c",
   "metadata": {},
   "source": [
    "<table style=\"margin: 0; text-align: left;\">\n",
    "    <tr>\n",
    "        <td style=\"width: 150px; height: 150px; vertical-align: middle;\">\n",
    "            <img src=\"../business.jpg\" width=\"150\" height=\"150\" style=\"display: block;\" />\n",
    "        </td>\n",
    "        <td>\n",
    "            <h2 style=\"color:#181;\">Business applications</h2>\n",
    "            <span style=\"color:#181;\">In this exercise, you experienced calling the Cloud API of a Frontier Model (a leading model at the frontier of AI) for the first time. We will be using APIs like OpenAI at many stages in the course, in addition to building our own LLMs.\n",
    "\n",
    "More specifically, we've applied this to Summarization - a classic Gen AI use case to make a summary. This can be applied to any business vertical - summarizing the news, summarizing financial performance, summarizing a resume in a cover letter - the applications are limitless. Consider how you could apply Summarization in your business, and try prototyping a solution.</span>\n",
    "        </td>\n",
    "    </tr>\n",
    "</table>\n",
    "\n",
    "<table style=\"margin: 0; text-align: left;\">\n",
    "    <tr>\n",
    "        <td style=\"width: 150px; height: 150px; vertical-align: middle;\">\n",
    "            <img src=\"../important.jpg\" width=\"150\" height=\"150\" style=\"display: block;\" />\n",
    "        </td>\n",
    "        <td>\n",
    "            <h2 style=\"color:#900;\">Before you continue - now try yourself</h2>\n",
    "            <span style=\"color:#900;\">Use the cell below to make your own simple commercial example. Stick with the summarization use case for now. Here's an idea: write something that will take the contents of an email, and will suggest an appropriate short subject line for the email. That's the kind of feature that might be built into a commercial email tool.</span>\n",
    "        </td>\n",
    "    </tr>\n",
    "</table>"
   ]
  },
  {
   "cell_type": "code",
   "execution_count": 45,
   "id": "b2a1ed26-af77-4d97-891a-180324550ccc",
   "metadata": {},
   "outputs": [],
   "source": [
    "jesse = Website('https://jessetech.ai')"
   ]
  },
  {
   "cell_type": "code",
   "execution_count": 49,
   "id": "27867e35-3db1-44fb-b3df-78d3ef4fee87",
   "metadata": {},
   "outputs": [
    {
     "data": {
      "text/plain": [
       "\"JesseTech\\nJesse\\nTech\\nHome\\nMy Story\\nMy Career\\nMy Portfolio\\nLet's Connect\\nEmail:\\nhello@jessetech.ai\\nHey there,\\nI'm Jesse\\na Data Scientist\\nat Meta (Facebook)\\nI work on turning single-player experiences into magical multi-player experiences on the Facebook app and the Metaverse through Remote Presence.\\nMeet Me (Virtually)\\nJesse He\\nDriven\\nwith\\nFocus\\nKnown for delivering strategic insights and recommendations that bring products to life for billions of users around the world.\\nProduct Sense\\nI am an owner of my projects and products from end to end. I focus on using quantitative methods to uncover opportunities and manage risks. I can build hypotheses and risk-profiles by engineering creative solutions and designing relevant metrics to monitor these solutions.\\nTechnical Skills\\nI can design and implement neural network algorithms as well as predict outcomes using regression, decision tree, and other probabilistic modeling techniques with various libraries such as Scikit-Learn and Turi, and TensorFlow. I have in-depth knowledge of Python and SQL (Presto, MySQL, Oracle, Hive), as well as visualization and analytical tools like Tableau, Matplotlib, Spotfire, and Alteryx.\\nLeadership Capabilities\\nI can communicate technical matters to non-technical stakeholders, as well as transform non-technical goals and requirements into technical objectives. I am highly motivated in ensuring the success of the projects that I own, or learn something from it. I can work without supervision and set my own goals and objectives, build relationships with both technical and non-technical stakeholders, and most importantly, solve business problems the right way.\\nData Scientist\\nWhat it Means?\\nWe are a new breed of analytical experts. We use our analytical expertise in both technology and social science to solve complex problems, find trends and manage data.\\nWe are naturally curious and find interesting means to explore what problems need to be solved.\\nOur tool box includes:\\nStatistical Inference\\nData Visualization\\nMachine Learning\\nExperimentation\\nData Engineering\\nDeep Learning\\nHere's the story of how I got here\\nJesse\\nTech\\nUseful Links\\nHome\\nMy Story\\nMy Career\\nMy Portfolio\\nLet's Connect\\nGet In Touch\\nSilicon Valley, California\\nhello@jessetech.ai\\n\\u202a(408) 475-2093\\nDesigned With Passion By\\nWeb Cannon-Z\\n| All Rights Reserved\""
      ]
     },
     "execution_count": 49,
     "metadata": {},
     "output_type": "execute_result"
    }
   ],
   "source": [
    "jesse.text"
   ]
  },
  {
   "cell_type": "code",
   "execution_count": null,
   "id": "047d34cb-c55d-4a49-b086-f9e2e7fd8bb4",
   "metadata": {},
   "outputs": [],
   "source": [
    "# Step 1: Create your prompts\n",
    "\n",
    "system_prompt = \"You are a highly intelligent assistant capable to critiquing and improving personal websites for the purpose of expanding personal brand, influence, and employability.\\\n",
    "Your task is to critique a website's format and content, and let me know how I can improve the website. You do not have a knowledge cutoff date.\"\n",
    "user_prompt = f\"Website title: {jesse.title}\\n\\\n",
    "Webiste content: {jesse.text}\"\n",
    "    \n",
    "# Step 2: Make the messages list\n",
    "\n",
    "messages = [\n",
    "    {'role':'system', 'content':system_prompt},\n",
    "    {'role':'user','content':user_prompt}\n",
    "] # fill this in\n",
    "\n",
    "# Step 3: Call OpenAI\n",
    "\n",
    "response = openai.chat.completions.create(model='gpt-4o-mini', messages=messages)"
   ]
  },
  {
   "cell_type": "code",
   "execution_count": 60,
   "id": "985a107c-d486-493b-885f-bfb7190b1bce",
   "metadata": {},
   "outputs": [
    {
     "name": "stdout",
     "output_type": "stream",
     "text": [
      "Your website, JesseTech, is off to a solid start in showcasing your skills as a Data Scientist, but there are several enhancements you could implement to improve its format, content, and overall impact. Below are some specific critiques and suggestions:\n",
      "\n",
      "### Overall Structure and Navigation\n",
      "1. **Navigation Bar**: The navigation items appear prominently, which is good. However, consider making them sticky (fixed position) when users scroll down so that they are always accessible. Additionally, include direct links to your social media profiles (LinkedIn, GitHub, etc.) in the navigation bar for easier access.\n",
      "\n",
      "2. **Header/Title Clarity**: The \"JesseTech\" title is a bit confusing without context. Consider adding a tagline beneath it, such as \"Empowering Data-Driven Decisions\" or \"Innovating Through Data Science,\" to clarify your focus right away.\n",
      "\n",
      "3. **Call to Action (CTA)**: Ensure that there are multiple clear CTAs throughout the website, encouraging visitors to \"contact you,\" \"view your portfolio,\" or \"read your story.\" This helps guide user interaction.\n",
      "\n",
      "### Content Refinement\n",
      "1. **Professional Introduction**: Your introduction could be more engaging. Instead of starting with \"I'm Jesse,\" try a more compelling lead, such as, \"Hi, I'm Jesse, a passionate Data Scientist at Meta dedicated to transforming technology into meaningful and engaging user experiences.\"\n",
      "\n",
      "2. **Detailed Career Section**: Expand on your \"My Career\" section. Consider adding specific projects you've worked on, any notable achievements, and metrics to quantify your contributions to previous roles. Use bullet points for clarity.\n",
      "\n",
      "3. **Portfolio Showcase**: Make your \"My Portfolio\" section visually engaging. Utilize images, charts, or links to live projects. Each project should have a brief description, including tools used and the impact of the project.\n",
      "\n",
      "4. **Personal Story**: Your \"My Story\" section should be more personal. Consider sharing challenges you've faced and overcame in your career, pivotal moments that led you to become a Data Scientist, and your passion for the field. This helps build a connection with your audience.\n",
      "\n",
      "5. **Skill Highlighting**: Instead of listing skills, create an interactive skills section where visitors can hover over each item to see examples or applications of those skills. This makes your technical expertise more tangible.\n",
      "\n",
      "### Visual Design\n",
      "1. **Consistency in Design**: Ensure consistent font styles and sizes throughout the page. Use headings, subheadings, and paragraphs to create a clear hierarchy and improve readability.\n",
      "\n",
      "2. **Color Scheme**: Use a cohesive color palette that reflects both your personality and professionalism. Ensure enough contrast between background and text colors for better accessibility.\n",
      "\n",
      "3. **Add Visuals**: Incorporate visuals such as infographics or diagrams to illustrate complex ideas or processes. This can help in breaking up text-heavy sections and engaging visual learners.\n",
      "\n",
      "### Optimize for SEO and Performance\n",
      "1. **SEO Optimization**: Use relevant keywords throughout your content to improve your search engine rankings. For example, terms like \"Data Scientist,\" \"Machine Learning,\" \"Analytics,\" etc. should be strategically placed.\n",
      "\n",
      "2. **Mobile Responsiveness**: Ensure that the design is fully responsive for mobile devices. Given the increasing use of mobile browsing, your website should render perfectly on all devices.\n",
      "\n",
      "3. **Loading Speed**: Optimize images and other media to improve loading time, as this can greatly impact your site's performance and user retention.\n",
      "\n",
      "### Conclusion\n",
      "Your website showcases a significant amount of useful information but needs refinement in presentation and engagement. By improving navigation, enhancing content quality, and focusing on visual design, you can create an impactful personal brand that effectively communicates your expertise and value as a Data Scientist. Consider regularly updating your site with new projects, publications, or insights to keep it relevant and fresh.\n"
     ]
    }
   ],
   "source": [
    "# Step 4: print the result\n",
    "\n",
    "answer=response.choices[0].message.content \n",
    "print(answer)"
   ]
  },
  {
   "cell_type": "code",
   "execution_count": 61,
   "id": "c5b36ce2-009b-4562-9fe0-fd8e26ab28c3",
   "metadata": {},
   "outputs": [
    {
     "data": {
      "text/markdown": [
       "Your website, JesseTech, is off to a solid start in showcasing your skills as a Data Scientist, but there are several enhancements you could implement to improve its format, content, and overall impact. Below are some specific critiques and suggestions:\n",
       "\n",
       "### Overall Structure and Navigation\n",
       "1. **Navigation Bar**: The navigation items appear prominently, which is good. However, consider making them sticky (fixed position) when users scroll down so that they are always accessible. Additionally, include direct links to your social media profiles (LinkedIn, GitHub, etc.) in the navigation bar for easier access.\n",
       "\n",
       "2. **Header/Title Clarity**: The \"JesseTech\" title is a bit confusing without context. Consider adding a tagline beneath it, such as \"Empowering Data-Driven Decisions\" or \"Innovating Through Data Science,\" to clarify your focus right away.\n",
       "\n",
       "3. **Call to Action (CTA)**: Ensure that there are multiple clear CTAs throughout the website, encouraging visitors to \"contact you,\" \"view your portfolio,\" or \"read your story.\" This helps guide user interaction.\n",
       "\n",
       "### Content Refinement\n",
       "1. **Professional Introduction**: Your introduction could be more engaging. Instead of starting with \"I'm Jesse,\" try a more compelling lead, such as, \"Hi, I'm Jesse, a passionate Data Scientist at Meta dedicated to transforming technology into meaningful and engaging user experiences.\"\n",
       "\n",
       "2. **Detailed Career Section**: Expand on your \"My Career\" section. Consider adding specific projects you've worked on, any notable achievements, and metrics to quantify your contributions to previous roles. Use bullet points for clarity.\n",
       "\n",
       "3. **Portfolio Showcase**: Make your \"My Portfolio\" section visually engaging. Utilize images, charts, or links to live projects. Each project should have a brief description, including tools used and the impact of the project.\n",
       "\n",
       "4. **Personal Story**: Your \"My Story\" section should be more personal. Consider sharing challenges you've faced and overcame in your career, pivotal moments that led you to become a Data Scientist, and your passion for the field. This helps build a connection with your audience.\n",
       "\n",
       "5. **Skill Highlighting**: Instead of listing skills, create an interactive skills section where visitors can hover over each item to see examples or applications of those skills. This makes your technical expertise more tangible.\n",
       "\n",
       "### Visual Design\n",
       "1. **Consistency in Design**: Ensure consistent font styles and sizes throughout the page. Use headings, subheadings, and paragraphs to create a clear hierarchy and improve readability.\n",
       "\n",
       "2. **Color Scheme**: Use a cohesive color palette that reflects both your personality and professionalism. Ensure enough contrast between background and text colors for better accessibility.\n",
       "\n",
       "3. **Add Visuals**: Incorporate visuals such as infographics or diagrams to illustrate complex ideas or processes. This can help in breaking up text-heavy sections and engaging visual learners.\n",
       "\n",
       "### Optimize for SEO and Performance\n",
       "1. **SEO Optimization**: Use relevant keywords throughout your content to improve your search engine rankings. For example, terms like \"Data Scientist,\" \"Machine Learning,\" \"Analytics,\" etc. should be strategically placed.\n",
       "\n",
       "2. **Mobile Responsiveness**: Ensure that the design is fully responsive for mobile devices. Given the increasing use of mobile browsing, your website should render perfectly on all devices.\n",
       "\n",
       "3. **Loading Speed**: Optimize images and other media to improve loading time, as this can greatly impact your site's performance and user retention.\n",
       "\n",
       "### Conclusion\n",
       "Your website showcases a significant amount of useful information but needs refinement in presentation and engagement. By improving navigation, enhancing content quality, and focusing on visual design, you can create an impactful personal brand that effectively communicates your expertise and value as a Data Scientist. Consider regularly updating your site with new projects, publications, or insights to keep it relevant and fresh."
      ],
      "text/plain": [
       "<IPython.core.display.Markdown object>"
      ]
     },
     "execution_count": 61,
     "metadata": {},
     "output_type": "execute_result"
    }
   ],
   "source": [
    "Markdown(answer)"
   ]
  },
  {
   "cell_type": "markdown",
   "id": "36ed9f14-b349-40e9-a42c-b367e77f8bda",
   "metadata": {},
   "source": [
    "## An extra exercise for those who enjoy web scraping\n",
    "\n",
    "You may notice that if you try `display_summary(\"https://openai.com\")` - it doesn't work! That's because OpenAI has a fancy website that uses Javascript. There are many ways around this that some of you might be familiar with. For example, Selenium is a hugely popular framework that runs a browser behind the scenes, renders the page, and allows you to query it. If you have experience with Selenium, Playwright or similar, then feel free to improve the Website class to use them. In the community-contributions folder, you'll find an example Selenium solution from a student (thank you!)"
   ]
  },
  {
   "cell_type": "markdown",
   "id": "eeab24dc-5f90-4570-b542-b0585aca3eb6",
   "metadata": {},
   "source": [
    "# Sharing your code\n",
    "\n",
    "I'd love it if you share your code afterwards so I can share it with others! You'll notice that some students have already made changes (including a Selenium implementation) which you will find in the community-contributions folder. If you'd like add your changes to that folder, submit a Pull Request with your new versions in that folder and I'll merge your changes.\n",
    "\n",
    "If you're not an expert with git (and I am not!) then GPT has given some nice instructions on how to submit a Pull Request. It's a bit of an involved process, but once you've done it once it's pretty clear. As a pro-tip: it's best if you clear the outputs of your Jupyter notebooks (Edit >> Clean outputs of all cells, and then Save) for clean notebooks.\n",
    "\n",
    "Here are good instructions courtesy of an AI friend:  \n",
    "https://chatgpt.com/share/677a9cb5-c64c-8012-99e0-e06e88afd293"
   ]
  },
  {
   "cell_type": "code",
   "execution_count": null,
   "id": "f4484fcf-8b39-4c3f-9674-37970ed71988",
   "metadata": {},
   "outputs": [],
   "source": []
  }
 ],
 "metadata": {
  "kernelspec": {
   "display_name": "Python 3 (ipykernel)",
   "language": "python",
   "name": "python3"
  },
  "language_info": {
   "codemirror_mode": {
    "name": "ipython",
    "version": 3
   },
   "file_extension": ".py",
   "mimetype": "text/x-python",
   "name": "python",
   "nbconvert_exporter": "python",
   "pygments_lexer": "ipython3",
   "version": "3.11.11"
  }
 },
 "nbformat": 4,
 "nbformat_minor": 5
}
