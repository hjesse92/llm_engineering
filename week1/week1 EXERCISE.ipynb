{
 "cells": [
  {
   "cell_type": "markdown",
   "id": "fe12c203-e6a6-452c-a655-afb8a03a4ff5",
   "metadata": {},
   "source": [
    "# End of week 1 exercise\n",
    "\n",
    "To demonstrate your familiarity with OpenAI API, and also Ollama, build a tool that takes a technical question,  \n",
    "and responds with an explanation. This is a tool that you will be able to use yourself during the course!"
   ]
  },
  {
   "cell_type": "code",
   "execution_count": 19,
   "id": "c1070317-3ed9-4659-abe3-828943230e03",
   "metadata": {},
   "outputs": [],
   "source": [
    "# imports\n",
    "\n",
    "import ollama\n",
    "from ollama import chat\n",
    "from openai import OpenAI\n",
    "from dotenv import load_dotenv\n",
    "import os\n",
    "from IPython.display import Markdown, display, update_display"
   ]
  },
  {
   "cell_type": "code",
   "execution_count": 10,
   "id": "4a456906-915a-4bfd-bb9d-57e505c5093f",
   "metadata": {},
   "outputs": [],
   "source": [
    "# constants\n",
    "\n",
    "MODEL_GPT = 'gpt-4o-mini'\n",
    "MODEL_LLAMA = 'llama3.2'"
   ]
  },
  {
   "cell_type": "code",
   "execution_count": 11,
   "id": "a8d7923c-5f28-4c30-8556-342d7c8497c1",
   "metadata": {},
   "outputs": [
    {
     "name": "stdout",
     "output_type": "stream",
     "text": [
      "API key looks good so far\n"
     ]
    }
   ],
   "source": [
    "# set up environment\n",
    "\n",
    "load_dotenv(override=True)\n",
    "api_key = os.getenv('OPENAI_API_KEY')\n",
    "\n",
    "if api_key and api_key.startswith('sk-proj-') and len(api_key)>10:\n",
    "    print(\"API key looks good so far\")\n",
    "else:\n",
    "    print(\"There might be a problem with your API key? Please visit the troubleshooting notebook!\")\n",
    "    \n",
    "\n"
   ]
  },
  {
   "cell_type": "code",
   "execution_count": 13,
   "id": "3f0d0137-52b0-47a8-81a8-11a90a010798",
   "metadata": {},
   "outputs": [],
   "source": [
    "# here is the question; type over this to ask something new\n",
    "system_prompt = \"\"\"\n",
    "You are a highly advanced AI assistant and a coding buddy. Your responsibility is to teach me how to code in a friendly way. Make your answers understandable, concise, and uncomplicated.\n",
    "\"\"\"\n",
    "\n",
    "question = \"\"\"\n",
    "Please explain what this code does and why:\n",
    "yield from {book.get(\"author\") for book in books if book.get(\"author\")}\n",
    "\"\"\"\n",
    "\n",
    "messages = [\n",
    "    {'role':'system','content':system_prompt},\n",
    "    {'role':'user','content':question}\n",
    "]"
   ]
  },
  {
   "cell_type": "code",
   "execution_count": 37,
   "id": "60ce7000-a4a5-4cce-a261-e75ef45063b4",
   "metadata": {
    "scrolled": true
   },
   "outputs": [
    {
     "data": {
      "text/markdown": [
       "Certainly! Let's break down the code:\n",
       "\n",
       "### Code Breakdown\n",
       "\n",
       "python\n",
       "yield from {book.get(\"author\") for book in books if book.get(\"author\")}\n",
       "\n",
       "\n",
       "1. **Set Comprehension**:\n",
       "   - The part inside the curly braces `{}` is a **set comprehension**. It's a way to create a set (a collection of unique items) using a loop.\n",
       "   - `book.get(\"author\")` is calling a method on a dictionary (`book`) to retrieve the value associated with the key `\"author\"`. If the author doesn't exist, it returns `None`.\n",
       "\n",
       "2. **Iterating Over `books`**:\n",
       "   - `for book in books` is a loop that iterates over each `book` in the `books` collection, which is assumed to be a list (or another similar iterable) of dictionaries.\n",
       "\n",
       "3. **Filtering Non-None Authors**:\n",
       "   - `if book.get(\"author\")` acts as a filter. This means that only books with a valid author (i.e., not `None` or an empty string) will be included in the set.\n",
       "\n",
       "4. **Yielding Values**:\n",
       "   - `yield from ...` is a way to yield all values from an iterable (in this case, the set created by the comprehension). This is often used in generator functions to produce a sequence of results over time.\n",
       "\n",
       "### Why It's Useful\n",
       "\n",
       "- **Unique Authors**: By using a set comprehension, this code collects unique authors from a list of books. If multiple books have the same author, that author will only appear once in the result.\n",
       "- **Efficient Generation**: Using `yield from` allows for lazy evaluation, meaning it generates authors one at a time when needed, which can be more memory efficient than creating and returning a complete list at once.\n",
       "- **Cleaner Code**: The expression is concise and combines filtering, extraction, and emitting values in one line.\n",
       "\n",
       "### Example\n",
       "\n",
       "Suppose you have the following `books` list:\n",
       "\n",
       "python\n",
       "books = [\n",
       "    {\"title\": \"Book 1\", \"author\": \"Author A\"},\n",
       "    {\"title\": \"Book 2\", \"author\": \"Author B\"},\n",
       "    {\"title\": \"Book 3\", \"author\": \"Author A\"},  # same author as Book 1\n",
       "    {\"title\": \"Book 4\", \"author\": None},       # no author\n",
       "    {\"title\": \"Book 5\", \"author\": \"Author C\"},\n",
       "]\n",
       "\n",
       "\n",
       "Using the code will yield:\n",
       "- `Author A`\n",
       "- `Author B`\n",
       "- `Author C`\n",
       "\n",
       "Notice that `Author A` appears only once despite being in multiple books, and the book with no author is ignored.\n",
       "\n",
       "Feel free to ask if you have any more questions or need further clarifications!"
      ],
      "text/plain": [
       "<IPython.core.display.Markdown object>"
      ]
     },
     "metadata": {},
     "output_type": "display_data"
    },
    {
     "data": {
      "text/markdown": [
       "Sure! Let's break down this line of code step by step:\n",
       "\n",
       "### Breakdown of the Code:\n",
       "\n",
       "1. **Set Comprehension**: \n",
       "   python\n",
       "   {book.get(\"author\") for book in books if book.get(\"author\")}\n",
       "   \n",
       "   - This part of the code is creating a *set* of authors from a collection called `books`.\n",
       "   - `book.get(\"author\")`: This attempts to retrieve the value associated with the key \"author\" from each `book` dictionary.\n",
       "   - `for book in books`: This iterates over each `book` in the `books` collection.\n",
       "   - `if book.get(\"author\")`: This checks if the author is not `None` or empty; only books with a valid author are included in the set.\n",
       "\n",
       "2. **Yielding Values**:\n",
       "   python\n",
       "   yield from\n",
       "   \n",
       "   - The `yield from` expression is used in generator functions to yield values from another iterable (in this case, the set of authors).\n",
       "   - It allows you to return multiple values one at a time, effectively \"delegating\" the generation of values from a sub-generator or an iterable.\n",
       "\n",
       "### Summary:\n",
       "- This line of code collects all unique authors from a list of `books` (ignoring any `None` or empty values) and yields them one by one from a generator. \n",
       "\n",
       "### Why Use It:\n",
       "- **Uniqueness**: Using a set automatically filters out duplicate author names.\n",
       "- **Generative**: The `yield from` construct allows the function to produce a series of values without having to create a full list in memory, which can be more efficient, especially with large datasets.\n",
       "\n",
       "If you have any more questions or if you want to dive deeper into any of the concepts, feel free to ask!"
      ],
      "text/plain": [
       "<IPython.core.display.Markdown object>"
      ]
     },
     "metadata": {},
     "output_type": "display_data"
    },
    {
     "data": {
      "text/markdown": [
       "Sure! Let’s break down the code you provided:\n",
       "\n",
       "python\n",
       "yield from {book.get(\"author\") for book in books if book.get(\"author\")}\n",
       "\n",
       "\n",
       "### Explanation:\n",
       "\n",
       "1. **Set Comprehension**: \n",
       "   - The part `{book.get(\"author\") for book in books if book.get(\"author\")}` is a set comprehension. It creates a set of unique authors from a collection of `books`.\n",
       "   - `book.get(\"author\")` retrieves the author of each book from the `books` collection. If a book does not have an author, `book.get(\"author\")` will return `None`.\n",
       "\n",
       "2. **Filtering**: \n",
       "   - The `if book.get(\"author\")` condition filters out any books that do not have an author, ensuring that `None` values (or any falsy values) won’t be included in the set.\n",
       "\n",
       "3. **Yielding Values**: \n",
       "   - The `yield from` part is used inside a generator function. It allows the function to yield all values from another iterable (in this case, the set of authors you created). It effectively sends each unique author back to the caller one by one.\n",
       "\n",
       "### Why Use This Code:\n",
       "\n",
       "- **Uniqueness**: The use of a set ensures that each author is yielded only once, even if they appear in multiple books.\n",
       "- **Cleaner Code**: This way of yielding directly from a generator expression is often cleaner and more concise than appending to a list and then yielding.\n",
       "- **Efficiency**: It processes the books in a single pass, efficiently filtering and collecting authors.\n",
       "\n",
       "### Summary:\n",
       "\n",
       "This line of code is used within a generator function to yield unique authors from a list of books, ignoring any books that do not have an associated author. It combines efficient filtering and unique value collection through set comprehension and the `yield from` expression."
      ],
      "text/plain": [
       "<IPython.core.display.Markdown object>"
      ]
     },
     "metadata": {},
     "output_type": "display_data"
    },
    {
     "data": {
      "text/markdown": [
       "Certainly! Let's break down the code you've shared:\n",
       "\n",
       "python\n",
       "yield from {book.get(\"author\") for book in books if book.get(\"author\")}\n",
       "\n",
       "\n",
       "### What it does:\n",
       "\n",
       "1. **Set Comprehension**: The code creates a **set comprehension** with `{...}`. This means it's building a set of unique values.\n",
       "\n",
       "2. **Iterate over `books`**: The code iterates over a collection called `books`. Each item in this collection is expected to be a dictionary representing a book, with properties like `\"author\"`.\n",
       "\n",
       "3. **Get the Author**: For each `book`, it uses `book.get(\"author\")` to get the value of the \"author\" key. If the key doesn't exist or if its value is `None`, it won’t add anything to the set.\n",
       "\n",
       "4. **Filter Non-None Authors**: The `if book.get(\"author\")` part ensures that only books with a valid (non-None) author are considered. \n",
       "\n",
       "5. **Yielding the Results**: The `yield from` part means that this code is part of a generator function. It will yield each unique author from the resulting set one at a time when the generator is used.\n",
       "\n",
       "### Why it's used:\n",
       "\n",
       "- **Uniqueness**: By creating a set, this code ensures that each author is only represented once, even if multiple books by the same author exist in the `books` collection.\n",
       "\n",
       "- **Memory Efficiency**: Using `yield from` allows for processing potentially large data without storing the entire list of authors in memory at once, as it yields one author at a time.\n",
       "\n",
       "### Summary:\n",
       "In summary, this code extracts and yields unique authors from the `books` collection in a memory-efficient manner, filtering out any books that don’t have an author listed."
      ],
      "text/plain": [
       "<IPython.core.display.Markdown object>"
      ]
     },
     "metadata": {},
     "output_type": "display_data"
    },
    {
     "data": {
      "text/markdown": [
       "Certainly! Let's break down the code piece by piece:\n",
       "\n",
       "### Understanding the Code\n",
       "\n",
       "1. **`{book.get(\"author\") for book in books if book.get(\"author\")}`**:\n",
       "   - This is a **set comprehension**, which constructs a set based on the items in `books`.\n",
       "   - **`books`** is assumed to be a list (or any iterable) of **dictionaries** where each dictionary represents a book.\n",
       "   - **`book.get(\"author\")`** tries to retrieve the value associated with the key `\"author\"` from each `book` dictionary.\n",
       "   - The **`if book.get(\"author\")`** part is a filter that ensures only books that actually have an author (non-null values) are considered.\n",
       "   - As a result, this set comprehension creates a set of unique authors from the books.\n",
       "\n",
       "2. **`yield from ...`**:\n",
       "   - This is a way to yield values from a generator. The `yield` keyword is used in Python to make a generator function, which produces a series of values lazily (one at a time) instead of generating them all at once and returning a list.\n",
       "   - **`yield from`** allows you to yield all values from an iterable (like our set of authors) directly from a generator.\n",
       "\n",
       "### What It Does and Why\n",
       "\n",
       "- The entire line of code creates a generator that yields each unique author from the list of books, but only if those authors exist (i.e., they're not `None` or empty).\n",
       "- This can be useful for scenarios where you need to process or display the names of authors without duplicates and do it efficiently, especially when dealing with larger datasets, as it won't construct a full list in memory at once.\n",
       "\n",
       "### Example \n",
       "\n",
       "Here’s a quick example:\n",
       "\n",
       "python\n",
       "books = [\n",
       "    {\"title\": \"Book 1\", \"author\": \"Author A\"},\n",
       "    {\"title\": \"Book 2\", \"author\": \"Author B\"},\n",
       "    {\"title\": \"Book 3\", \"author\": None},\n",
       "    {\"title\": \"Book 4\", \"author\": \"Author A\"},\n",
       "]\n",
       "\n",
       "# Using the code you provided in a generator function\n",
       "def get_unique_authors(books):\n",
       "    yield from {book.get(\"author\") for book in books if book.get(\"author\")}\n",
       "\n",
       "# Call the generator\n",
       "for author in get_unique_authors(books):\n",
       "    print(author)  # Output: Author A, Author B\n",
       "\n",
       "\n",
       "### Summary\n",
       "\n",
       "- **Purpose**: Get unique authors from a list of books efficiently.\n",
       "- **Method**: Use a set comprehension to collect unique authors and `yield from` to yield them lazily one at a time.\n",
       "\n",
       "Feel free to ask if you want more clarification or additional examples!"
      ],
      "text/plain": [
       "<IPython.core.display.Markdown object>"
      ]
     },
     "metadata": {},
     "output_type": "display_data"
    },
    {
     "data": {
      "text/markdown": [
       "Sure! Let's break down the code you provided:\n",
       "\n",
       "### What it does:\n",
       "- This code is using a generator expression to yield (or produce) authors from a collection of books, but only if the author information is available.\n",
       "\n",
       "### Components Explained:\n",
       "1. **Set comprehension `{...}`**:  \n",
       "   The code uses curly braces `{}` which indicate that this is a set comprehension. A set is a collection that only stores unique items. In this case, it's creating a set of authors.\n",
       "\n",
       "2. **`book.get(\"author\")`**:  \n",
       "   This part accesses the `\"author\"` key from each `book` dictionary. If the key exists, it returns the author's name; if not, it returns `None`.\n",
       "\n",
       "3. **For loop**:  \n",
       "   The `for book in books` iterates through each `book` in the `books` collection.\n",
       "\n",
       "4. **Conditional filtering**:  \n",
       "   The `if book.get(\"author\")` part filters out any books that do not have an author. It ensures that only books with a defined author are included.\n",
       "\n",
       "5. **`yield from`**:  \n",
       "   The `yield from` keyword is used to yield all the values from the generator (the set being created) one at a time. This makes the function that contains this code behave like a generator, allowing it to produce a sequence of values on the fly.\n",
       "\n",
       "### Why this is useful:\n",
       "- **Uniqueness**: Because it uses a set, any duplicate authors in the list of books will only appear once in the output.\n",
       "- **Efficiency**: `yield from` avoids the need to create an entire list first and then return it, allowing for potentially more memory-efficient and lazy evaluation.\n",
       "\n",
       "### Summary:\n",
       "In summary, this code collects and yields unique authors from a list of books, ensuring that only books with an author are considered. It enables easy iteration over these authors later on."
      ],
      "text/plain": [
       "<IPython.core.display.Markdown object>"
      ]
     },
     "metadata": {},
     "output_type": "display_data"
    },
    {
     "data": {
      "text/markdown": [
       "Certainly! Let’s break down the code piece by piece.\n",
       "\n",
       "### Code Explanation\n",
       "\n",
       "python\n",
       "yield from {book.get(\"author\") for book in books if book.get(\"author\")}\n",
       "\n",
       "\n",
       "1. **Set Comprehension**: \n",
       "   - `{book.get(\"author\") for book in books if book.get(\"author\")}` creates a **set** (a collection of unique items) of authors from the `books` list. \n",
       "   - Here’s how:\n",
       "     - `for book in books`: This iterates over each `book` in the `books` collection.\n",
       "     - `book.get(\"author\")`: This retrieves the value associated with the \"author\" key from each `book` dictionary.\n",
       "     - `if book.get(\"author\")`: This conditional ensures that only books that have a defined author (i.e., the author is not `None` or an empty string) are included.\n",
       "   - The result of this comprehension is a set containing the unique authors.\n",
       "\n",
       "2. **Yield From**:\n",
       "   - `yield from` is a keyword used in Python generators. It allows you to yield values from an iterable (in this case, the set of authors) one at a time.\n",
       "   - This means that the function containing this line is likely defined as a generator, and it will produce each author in the set one by one when iterated over.\n",
       "\n",
       "### Why Use This Code?\n",
       "\n",
       "- **Uniqueness**: By using a set, it automatically filters out duplicate authors; each author will only appear once.\n",
       "- **Efficiency**: The use of `yield from` efficiently produces the authors as needed without storing them all in memory at once (unlike returning a list).\n",
       "- **Clean and Readable**: The code is concise and clearly conveys its intent, making it easy to understand.\n",
       "\n",
       "### Example Scenario\n",
       "\n",
       "Imagine you have a list of books, each represented as a dictionary like this:\n",
       "\n",
       "python\n",
       "books = [\n",
       "    {\"title\": \"Book 1\", \"author\": \"Author A\"},\n",
       "    {\"title\": \"Book 2\", \"author\": \"Author B\"},\n",
       "    {\"title\": \"Book 3\", \"author\": \"Author A\"},\n",
       "    {\"title\": \"Book 4\", \"author\": None},\n",
       "]\n",
       "\n",
       "\n",
       "Using your code would yield `\"Author A\"` and `\"Author B\"`.\n",
       "\n",
       "### Summary\n",
       "\n",
       "This line of code efficiently collects and yields unique authors from a list of book dictionaries while ensuring that only valid authors are included. If you have any more questions or need further clarification, feel free to ask!"
      ],
      "text/plain": [
       "<IPython.core.display.Markdown object>"
      ]
     },
     "metadata": {},
     "output_type": "display_data"
    },
    {
     "data": {
      "text/markdown": [
       "Sure! Let’s break this code down step by step.\n",
       "\n",
       "1. **Set Comprehension**: \n",
       "   - The part `{book.get(\"author\") for book in books if book.get(\"author\")}` is a set comprehension. It creates a set of unique authors from a collection of `books`.\n",
       "   - `book.get(\"author\")`: This accesses the \"author\" key of each `book` dictionary. If the \"author\" key doesn’t exist, this method returns `None` instead of raising an error.\n",
       "   - `for book in books`: This iterates through each `book` in the `books` collection.\n",
       "   - `if book.get(\"author\")`: This condition checks that the author exists (i.e., it's not `None` or an empty string). Only books with a defined author will be included in the set.\n",
       "\n",
       "2. **`yield from`**:\n",
       "   - The keyword `yield from` is used in generators. It delegates the yielding of values to another iterable. In this case, it yields each unique author obtained from the set comprehension.\n",
       "   - This means the code will produce each author one by one when the generator is iterated over.\n",
       "\n",
       "### Summary:\n",
       "In summary, this code constructs a set of unique authors from a collection of `books` (only including books with a defined author) and allows you to iterate over these authors using a generator. \n",
       "\n",
       "### Why Use It?\n",
       "- **Unique Values**: By using a set comprehension, it automatically filters duplicates.\n",
       "- **Efficient Iteration**: It enables efficient enumeration through the author names sequentially without needing to store them all in memory at once.\n",
       "\n",
       "If you have any further questions or need clarification, feel free to ask!"
      ],
      "text/plain": [
       "<IPython.core.display.Markdown object>"
      ]
     },
     "metadata": {},
     "output_type": "display_data"
    },
    {
     "name": "stdout",
     "output_type": "stream",
     "text": [
      "7.57 s ± 3.27 s per loop (mean ± std. dev. of 7 runs, 1 loop each)\n"
     ]
    }
   ],
   "source": [
    "%%timeit\n",
    "# Get gpt-4o-mini to answer, with streaming\n",
    "client = OpenAI()\n",
    "\n",
    "openai_stream = client.chat.completions.create(\n",
    "    model=MODEL_GPT,\n",
    "    messages=messages,\n",
    "    stream=True\n",
    ")\n",
    "\n",
    "response = \"\"\n",
    "display_handle = display(Markdown(\"\"), display_id=True)\n",
    "for chunk in openai_stream:\n",
    "    response += chunk.choices[0].delta.content or ''\n",
    "    response = response.replace(\"```\",\"\").replace(\"markdown\", \"\")\n",
    "    update_display(Markdown(response), display_id=display_handle.display_id)\n"
   ]
  },
  {
   "cell_type": "code",
   "execution_count": 38,
   "id": "8f7c8ea8-4082-4ad0-8751-3301adcf6538",
   "metadata": {
    "scrolled": true
   },
   "outputs": [
    {
     "data": {
      "text/markdown": [
       "**Unpacking Data with `yield from`**\n",
       "\n",
       "Let's break down the code:\n",
       "\n",
       "python\n",
       "yield from {book.get(\"author\") for book in books if book.get(\"author\")}\n",
       "\n",
       "\n",
       "Here's what it does:\n",
       "\n",
       "1. **Dictionary comprehension**: `{book.get(\"author\") for book in books if book.get(\"author\")}` is a dictionary comprehension that creates a new dictionary containing the \"author\" key-value pairs from each `book` object.\n",
       "2. **`yield from` syntax**: The entire expression is wrapped in the `yield from` keyword.\n",
       "\n",
       "So, what does it all mean? \n",
       "\n",
       "The code generates an iterator over the list of authors (as strings) extracted from the `books` objects. Here's why:\n",
       "\n",
       "- It only considers books that have both a \"book\" and an \"author\".\n",
       "- For each book, it extracts the author's name (also as a string).\n",
       "- The resulting generator yields one author at a time.\n",
       "\n",
       "Think of it like this: you're iterating over a list of books, but instead of getting the entire book object, you're getting just the author's name. \n",
       "\n",
       "This syntax can be more readable and less error-prone than creating an iterator manually with `for` loops or lambda functions.\n",
       "\n",
       "**Example use case**\n",
       "\n",
       "Suppose you have a dictionary of book objects, where each book has both \"author\" and \"title\" keys:\n",
       "\n",
       "python\n",
       "books = [\n",
       "    {\"author\": \"John Doe\", \"title\": \"Book 1\"},\n",
       "    {\"author\": \"Jane Smith\", \"title\": \"Book 2\"},\n",
       "    # ... other books ...\n",
       "]\n",
       "\n",
       "\n",
       "You can use this code to iterate over the list of authors and print them one at a time:\n",
       "\n",
       "python\n",
       "for author in yield from {book.get(\"author\") for book in books if book.get(\"author\")}:\n",
       "    print(author)\n",
       "\n",
       "\n",
       "This will output the authors' names, one per line."
      ],
      "text/plain": [
       "<IPython.core.display.Markdown object>"
      ]
     },
     "metadata": {},
     "output_type": "display_data"
    },
    {
     "data": {
      "text/markdown": [
       "**Breaking down the code**\n",
       "\n",
       "This line of code is using a combination of Python features to extract authors from a list of books.\n",
       "\n",
       "Let's break it down step by step:\n",
       "\n",
       "* `yield from`: This keyword is used to delegate the execution of an iterator (in this case, `{book.get(\"author\") for book in books if book.get(\"author\")}`) to another iterator. Think of it as \"passing responsibility\" to another part of your code.\n",
       "* `{book.get(\"author\") for book in books if book.get(\"author\")}`: This is a generator expression that iterates over the `books` list and extracts the author from each book using `book.get(\"author\")`. The `if book.get(\"author\")` part filters out any books without an author.\n",
       "\t+ `for book in books`: Loops through each book in the `books` list.\n",
       "\t+ `book.get(\"author\")`: Tries to extract the \"author\" value from the current book. If it doesn't exist, this will return `None`.\n",
       "\t+ `if book.get(\"author\")`: Filters out any books that don't have an author.\n",
       "\n",
       "**What happens when we use `yield from`?**\n",
       "\n",
       "When you see `yield from`, Python knows that you're about to create a new iterator (the generator expression). Instead of creating and executing this entire iteration yourself, it \"delegates\" the responsibility to the inner iterator (`{book.get(\"author\") for book in books if book.get(\"author\")}`).\n",
       "\n",
       "The outer code can then simply wait for each item from the inner iterator without having to create its own iteration. It's like a \"pull-based\" system.\n",
       "\n",
       "**Why use `yield from`?**\n",
       "\n",
       "Using `yield from` is useful when you want to:\n",
       "\n",
       "* Reduce boilerplate code (we don't need to create our own iteration).\n",
       "* Improve readability by separating concerns (in this case, the author extraction logic is in the generator expression).\n",
       "\n",
       "Does that make sense?"
      ],
      "text/plain": [
       "<IPython.core.display.Markdown object>"
      ]
     },
     "metadata": {},
     "output_type": "display_data"
    },
    {
     "data": {
      "text/markdown": [
       "Let's break down the code step by step.\n",
       "\n",
       "**What is it doing?**\n",
       "This line of code generates a sequence of authors, one author per book.\n",
       "\n",
       "**Here's what happens:**\n",
       "\n",
       "1. `for book in books`: This part loops through each item (`book`) in the list or collection called `books`.\n",
       "2. `if book.get(\"author\")`: For each book, it checks if the book has an attribute (or key) named \"author\".\n",
       "3. `{book.get(\"author\")}`: If a book does have an author, this part extracts the author's name and puts it inside the curly brackets (`{}`).\n",
       "4. `yield from ...`: This is where things get interesting! The `yield from` keyword allows us to take the extracted authors and pass them on to whatever \"next\" step we're in.\n",
       "\n",
       "**So, what does \"yield from\" do?**\n",
       "It essentially says: \"Take this sequence of values (`book.get(\"author\")`) and make it available for the next part of our code to use.\" This allows us to generate a list or iterable of authors without having to explicitly create an empty list and append each author to it.\n",
       "\n",
       "**Think of it like a generator**\n",
       "Imagine you're at a bookshelf with many books. The code is saying: \"I'll show you all the authors from these books one by one.\" Instead of showing you the entire shelf (all authors) upfront, it shows them one author per book, allowing your next step to process each author individually.\n",
       "\n",
       "Does this explanation help clarify things?"
      ],
      "text/plain": [
       "<IPython.core.display.Markdown object>"
      ]
     },
     "metadata": {},
     "output_type": "display_data"
    },
    {
     "data": {
      "text/markdown": [
       "This code is written in Python and uses several advanced concepts like `yield from` and generator expressions. Let's break it down:\n",
       "\n",
       "1. **Generator Expression**: `{book.get(\"author\") for book in books if book.get(\"author\")}` is a shorthand way to create a generator expression. It's similar to a list comprehension, but instead of building a list, it generates values on-the-fly.\n",
       "\n",
       "2. **`yield from` Statement**: The `yield from` statement is used to delegate sub-generation or iteration to another iterable (like the one in your generator expression). When `yield from` is encountered inside a generator function, it yields from whatever comes next in the iteration sequence.\n",
       "\n",
       "So, when we put them together:\n",
       "\n",
       "python\n",
       "yield from {book.get(\"author\") for book in books if book.get(\"author\")}\n",
       "\n",
       "\n",
       "is equivalent to this code:\n",
       "\n",
       "\n",
       "for author in (book.get(\"author\") for book in books if book.get(\"author\")):\n",
       "    yield author\n",
       "\n",
       "\n",
       "But with a twist! The `yield from` statement allows us to delegate the iteration over the nested iterable (`(book.get(\"author\") for book in books ...`) directly to it, instead of having to manually extract and iterate over each item.\n",
       "\n",
       "In practical terms, this code is likely used to flatten a list of dictionaries where each dictionary has an \"author\" key. Instead of using a loop or recursion, it uses `yield from` to create a flat iterator that yields the authors one by one.\n",
       "\n",
       "For example:\n",
       "\n",
       "python\n",
       "books = [\n",
       "    {\"title\": \"Book 1\", \"author\": \"Author A\"},\n",
       "    {\"title\": \"Book 2\", \"author\": \"Author B\"},\n",
       "]\n",
       "\n",
       "for author in yield from ({book.get(\"author\") for book in books}):\n",
       "    print(author)\n",
       "\n",
       "\n",
       "Output:\n",
       "\n",
       "Author A\n",
       "Author B\n"
      ],
      "text/plain": [
       "<IPython.core.display.Markdown object>"
      ]
     },
     "metadata": {},
     "output_type": "display_data"
    },
    {
     "data": {
      "text/markdown": [
       "Let's break down this code together.\n",
       "\n",
       "**What is it doing?**\n",
       "\n",
       "This code is using a technique called **generator expression**, which creates an iterator that produces values on-the-fly, one at a time. The main purpose here is to retrieve the authors of books from a collection called `books`.\n",
       "\n",
       "Here's what happens step by step:\n",
       "\n",
       "1. `{book.get(\"author\") for book in books if book.get(\"author\")}`: This part creates an **iterator** that produces values.\n",
       "   - It iterates over each item (`book`) in the `books` collection.\n",
       "   - For each item, it tries to retrieve the value associated with the key `\"author\"` using `book.get(\"author\")`.\n",
       "   - If the key exists and its value is not `None`, it adds that value (the author's name) to the iterator.\n",
       "\n",
       "2. `yield from`: This keyword tells Python to:\n",
       "   - Create a new generator (iterator) by delegating its creation and execution to another function or expression (`{...}`).\n",
       "   - When this new generator is called, it yields values directly from the delegated generator, without adding any extra processing.\n",
       "   \n",
       "So, when we use `yield from` before the generator expression, Python creates a new generator that:\n",
       "- Iterates over each book in the collection\n",
       "- For each book, it retrieves and yields the author's name (if available)\n",
       "\n",
       "**Why is this useful?**\n",
       "\n",
       "This code is efficient because it doesn't load all authors into memory at once. Instead, it produces them one by one as needed, which can be especially beneficial when working with large datasets.\n",
       "\n",
       "Think of it like reading a book one chapter at a time – you don't need to read the entire book in advance; just one chapter at a time is sufficient. This approach saves memory and processing power.\n",
       "\n",
       "In real-world scenarios, this technique can be used for various tasks, such as:\n",
       "\n",
       "* Handling large datasets or streams\n",
       "* Creating iterators that process items on-the-fly\n",
       "* Improving performance by reducing memory usage\n",
       "\n",
       "I hope this explanation helps you understand the code better! Do you have any specific questions about it?"
      ],
      "text/plain": [
       "<IPython.core.display.Markdown object>"
      ]
     },
     "metadata": {},
     "output_type": "display_data"
    },
    {
     "data": {
      "text/markdown": [
       "This line of code is written in Python and uses some advanced concepts.\n",
       "\n",
       "**Let's break it down:**\n",
       "\n",
       "- `yield from`: This keyword is used to delegate to subiterators. It's a way to pass the output of one iteration to another.\n",
       "\n",
       "- `{book.get(\"author\") for book in books if book.get(\"author\")}`: This is a generator expression (similar to a list comprehension, but it doesn't store all values in memory).\n",
       "\n",
       "  - `for book in books`: Iterates over each item in the `books` collection.\n",
       "  - `if book.get(\"author\")`: Only includes items where \"author\" exists and is not empty or None.\n",
       "\n",
       "So, putting it together, this line of code does the following:\n",
       "\n",
       "- Yields one value at a time from an iterator that iterates over books.\n",
       "- Filters out books without an author.\n",
       "- Uses `book.get(\"author\")` to get the author's name for each book.\n",
       "\n",
       "However, in a typical context, you wouldn't use `yield from`. Instead, you'd usually write this line as:\n",
       "\n",
       "python\n",
       "for book in books:\n",
       "    if book.get(\"author\"):\n",
       "        yield book.get(\"author\")\n",
       "\n",
       "\n",
       "This does essentially the same thing but uses a regular loop and the built-in `yield` keyword to produce values one at a time."
      ],
      "text/plain": [
       "<IPython.core.display.Markdown object>"
      ]
     },
     "metadata": {},
     "output_type": "display_data"
    },
    {
     "data": {
      "text/markdown": [
       "Let's break it down.\n",
       "\n",
       "This line of code is using a feature called **generators**. Think of generators like special kinds of loops that can be used to generate values one at a time, instead of all at once.\n",
       "\n",
       "Here's what each part does:\n",
       "\n",
       "- `yield from`: This keyword tells Python to pass on the generated values to whatever function is calling this generator.\n",
       "- `{... for book in books if book.get(\"author\")}`: This is a **list comprehension**, which creates a new list by applying some rules to an existing collection (in this case, `books`). The `if` part filters out any items that don't match the rule (`book.get(\"author\") != None`), because we only want authors.\n",
       "\n",
       "So, when you put it all together, this line of code:\n",
       "\n",
       "1. Goes through each book in the `books` collection.\n",
       "2. Checks if each book has an author (i.e., `\"author\"` key exists and its value is not empty).\n",
       "3. If a book does have an author, adds that author to the generator.\n",
       "4. The generator yields one author at a time.\n",
       "\n",
       "The code is actually creating a **iterable** that contains all the authors from the `books` collection. This means you can use it in a loop or with other functions that expect iterables.\n",
       "\n",
       "Here's a simple example:\n",
       "python\n",
       "def get_authors(books):\n",
       "    yield from {book.get(\"author\") for book in books if book.get(\"author\")}\n",
       "\n",
       "# create some sample data\n",
       "books = [\n",
       "    {\"title\": \"Book 1\", \"author\": \"John Doe\"},\n",
       "    {\"title\": \"Book 2\", \"author\": \"\"},  # empty author, won't be added\n",
       "    {\"title\": \"Book 3\", \"author\": \"Jane Smith\"}\n",
       "]\n",
       "\n",
       "for author in get_authors(books):\n",
       "    print(author)\n",
       "\n",
       "Output:\n",
       "\n",
       "John Doe\n",
       "Jane Smith\n"
      ],
      "text/plain": [
       "<IPython.core.display.Markdown object>"
      ]
     },
     "metadata": {},
     "output_type": "display_data"
    },
    {
     "data": {
      "text/markdown": [
       "Let's break down the code step by step.\n",
       "\n",
       "**What is it doing?**\n",
       "\n",
       "This line of code is a part of a generator expression, which is used to create an iterator that can be used in a loop.\n",
       "\n",
       "The code is essentially saying: \"For each book in the `books` collection, get the author and yield the result.\"\n",
       "\n",
       "Here's what's happening:\n",
       "\n",
       "1. `{...}` - This is a dictionary comprehension, but it's not creating a new dictionary; instead, it's using the `yield from` syntax.\n",
       "2. `book.get(\"author\")` - This gets the value associated with the key `\"author\"` for each book.\n",
       "3. `for book in books if book.get(\"author\")` - This is a filter condition that ensures we only consider books that have an author.\n",
       "\n",
       "**Why?**\n",
       "\n",
       "The reason to use this code is likely because it's generating a sequence of authors, but it's not storing the entire list in memory at once. Instead, it creates a generator that yields each author one by one.\n",
       "\n",
       "Here's why this matters:\n",
       "\n",
       "* **Memory efficiency**: If you had a large collection of books and wanted to get all their authors, using `yield from` ensures that only one book is processed at a time, keeping memory usage low.\n",
       "* **Lazy evaluation**: The code doesn't actually fetch the author data until it's needed. This can improve performance if the data is expensive or time-consuming to retrieve.\n",
       "\n",
       "**Example**\n",
       "\n",
       "Suppose you have a list of books:\n",
       "python\n",
       "books = [\n",
       "    {\"title\": \"Book 1\", \"author\": \"John Doe\"},\n",
       "    {\"title\": \"Book 2\", \"author\": \"Jane Smith\"},\n",
       "    # ...\n",
       "]\n",
       "\n",
       "If you use the code, it will yield each author in sequence, like this:\n",
       "python\n",
       "for author in yield from {book.get(\"author\") for book in books if book.get(\"author\")}:\n",
       "    print(author)  # Output: John Doe, Jane Smith, ...\n",
       "\n",
       "This way, you can iterate over the authors without having to store all of them in memory at once."
      ],
      "text/plain": [
       "<IPython.core.display.Markdown object>"
      ]
     },
     "metadata": {},
     "output_type": "display_data"
    },
    {
     "name": "stdout",
     "output_type": "stream",
     "text": [
      "3.08 s ± 475 ms per loop (mean ± std. dev. of 7 runs, 1 loop each)\n"
     ]
    }
   ],
   "source": [
    "%%timeit\n",
    "# Get Llama 3.2 to answer\n",
    "\n",
    "ollama_stream = chat(\n",
    "    model=MODEL_LLAMA,\n",
    "    messages = messages,\n",
    "    stream=True\n",
    ")\n",
    "\n",
    "response = \"\"\n",
    "display_handle = display(Markdown(\"\"), display_id=True)\n",
    "for chunk in ollama_stream:\n",
    "    response += chunk.message.content or ''\n",
    "    response = response.replace(\"```\",\"\").replace(\"markdown\", \"\")\n",
    "    update_display(Markdown(response), display_id=display_handle.display_id)\n",
    "\n",
    "        \n",
    "# for chunk in ollama_stream:\n",
    "#     Markdown(chunk['message']['content'])"
   ]
  },
  {
   "cell_type": "code",
   "execution_count": null,
   "id": "47238c04-1178-4345-8a61-56c66dfafb4e",
   "metadata": {},
   "outputs": [],
   "source": []
  }
 ],
 "metadata": {
  "kernelspec": {
   "display_name": "Python 3 (ipykernel)",
   "language": "python",
   "name": "python3"
  },
  "language_info": {
   "codemirror_mode": {
    "name": "ipython",
    "version": 3
   },
   "file_extension": ".py",
   "mimetype": "text/x-python",
   "name": "python",
   "nbconvert_exporter": "python",
   "pygments_lexer": "ipython3",
   "version": "3.11.11"
  }
 },
 "nbformat": 4,
 "nbformat_minor": 5
}
